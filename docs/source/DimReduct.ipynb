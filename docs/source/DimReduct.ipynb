{
 "cells": [
  {
   "cell_type": "markdown",
   "id": "22ab772e-ae17-4e93-bebe-379e84c8dae5",
   "metadata": {},
   "source": [
    "# shelf"
   ]
  },
  {
   "cell_type": "code",
   "execution_count": 1,
   "id": "eb3729d1-55d6-49a6-8412-3030098b1be3",
   "metadata": {
    "ExecuteTime": {
     "end_time": "2024-01-19T01:18:29.537344Z",
     "start_time": "2024-01-19T01:18:29.534264Z"
    }
   },
   "outputs": [
    {
     "name": "stdout",
     "output_type": "stream",
     "text": [
      "hello world\n"
     ]
    }
   ],
   "source": [
    "print(\"hello world\")"
   ]
  },
  {
   "cell_type": "code",
   "outputs": [],
   "source": [],
   "metadata": {
    "collapsed": false
   },
   "id": "6a70b32b44c77392"
  }
 ],
 "metadata": {
  "kernelspec": {
   "display_name": "Python 3 (ipykernel)",
   "language": "python",
   "name": "python3"
  },
  "language_info": {
   "codemirror_mode": {
    "name": "ipython",
    "version": 3
   },
   "file_extension": ".py",
   "mimetype": "text/x-python",
   "name": "python",
   "nbconvert_exporter": "python",
   "pygments_lexer": "ipython3",
   "version": "3.8.0"
  }
 },
 "nbformat": 4,
 "nbformat_minor": 5
}

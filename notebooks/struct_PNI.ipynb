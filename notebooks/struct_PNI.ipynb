{
 "cells": [
  {
   "cell_type": "markdown",
   "id": "561709d4-4fc7-41f6-8da3-54f551ec2373",
   "metadata": {},
   "source": [
    "# Overview\n",
    "This notebook will examine quantitative 7T MRI measures projected onto hippocampal midthickness surfaces and averaged across 10 subjects. At the end, we will combine this with Histology data and examine conserved features"
   ]
  },
  {
   "cell_type": "code",
   "execution_count": 1,
   "id": "f5120ee5",
   "metadata": {},
   "outputs": [],
   "source": [
    "import numpy as np\n",
    "import matplotlib.pyplot as plt\n",
    "import nibabel as nib\n",
    "import sys\n",
    "sys.path.insert(1, '/export03/data/opt/hippunfold_toolbox/hippunfold_toolbox')\n",
    "import plotting\n",
    "import utils\n",
    "import copy\n",
    "import glob"
   ]
  },
  {
   "cell_type": "code",
   "execution_count": 2,
   "id": "d4d1393b",
   "metadata": {},
   "outputs": [],
   "source": [
    "micapipe_dir = '../sourcedata/Supersession_PNI'\n",
    "hippunfold_dir = '../hippunfold/PNI_v1.3.0_super/hippunfold'\n",
    "\n",
    "subs = ['PNC002', 'PNC003', 'PNC006', 'PNC007', 'PNC009', 'PNC010', 'PNC015', 'PNC016', 'PNC018', 'PNC019']\n",
    "ses = ''\n",
    "hemis = ['L','R']\n",
    "labels = ['hipp','dentate'] \n",
    "\n",
    "# here we will generate multiple depth-wise surfaces\n",
    "layers = np.linspace(-0.25,1.25,num=25)\n",
    "gm = np.where(np.logical_and(layers>=0,  layers <=1))[0]\n",
    "ind = [range(7262), range(7262,7262+1788)]"
   ]
  },
  {
   "cell_type": "code",
   "execution_count": null,
   "id": "339e118a",
   "metadata": {
    "tags": []
   },
   "outputs": [],
   "source": [
    "features = ['T1map','MTR','T2star','FA','ADC']\n",
    "for s,sub in enumerate(subs):\n",
    "    cmd = f'mkdir -p {hippunfold_dir}/sub-{sub}/surf/depths'\n",
    "    !{cmd}\n",
    "    for h,hemi in enumerate(hemis):\n",
    "        for l,layer in enumerate(layers):\n",
    "            cmd1 = f'wb_command -surface-cortex-layer '\\\n",
    "                f'{hippunfold_dir}/sub-{sub}/surf/sub-{sub}_hemi-{hemi}_space-corobl_den-0p5mm_label-hipp_inner.surf.gii '\\\n",
    "                f'{hippunfold_dir}/sub-{sub}/surf/sub-{sub}_hemi-{hemi}_space-corobl_den-0p5mm_label-hipp_outer.surf.gii '\\\n",
    "                f'{layer} '\\\n",
    "                f'{hippunfold_dir}/sub-{sub}/surf/depths/sub-{sub}_hemi-{hemis[s]}_layer-{layer}.surf.gii'\n",
    "            !{cmd1}\n",
    "            for f,feature in enumerate(features):\n",
    "                cmd2 = f'wb_command -volume-to-surface-mapping '\\\n",
    "                    f'{micapipe_dir}/sub-{sub}/anat/sub-{sub}_space-nativepro_{feature}.nii.gz '\\\n",
    "                    f'{hippunfold_dir}/sub-{sub}/surf/depths/sub-{sub}_hemi-{hemi}_layer-{layer}.surf.gii '\\\n",
    "                    f'{hippunfold_dir}/sub-{sub}/surf/depths/sub-{sub}_hemi-{hemi}_layer-{layer}_{feature}.shape.gii '\\\n",
    "                    f'-trilinear'\n",
    "                !{cmd2}"
   ]
  },
  {
   "cell_type": "code",
   "execution_count": null,
   "id": "8f0b5aec",
   "metadata": {
    "tags": []
   },
   "outputs": [],
   "source": [
    "features = ['T1map','MTR','T2star','FA','ADC']\n",
    "hipp_dat = np.zeros([7262,2,len(subs),len(features),len(layers)])*np.nan\n",
    "\n",
    "for f,feature in enumerate(features):\n",
    "    for s,sub in enumerate(subs):\n",
    "        for h,hemi in enumerate(hemis):\n",
    "            for l,layer in enumerate(layers):\n",
    "                try:\n",
    "                    d = nib.load(f'{hippunfold_dir}/sub-{sub}/surf/depths/sub-{sub}_hemi-{hemi}_layer-{layer}_{feature}.shape.gii')\n",
    "                    hipp_dat[:,h,s,f,l] = d.darrays[0].data\n",
    "                except:\n",
    "                    print(f'sub-{sub}_{hemi}_{feature} not found')"
   ]
  },
  {
   "cell_type": "code",
   "execution_count": null,
   "id": "c2df025a",
   "metadata": {},
   "outputs": [],
   "source": [
    "cdata = np.nanmean(hipp_dat,axis=2)\n",
    "plotting.surfplot_canonical_foldunfold(cdata[:,:,:], color_bar=('right'), labels=['hipp'], share='row', tighten_cwindow=True, embed_nb=True)"
   ]
  },
  {
   "cell_type": "code",
   "execution_count": null,
   "id": "17cb583a-2e36-4642-a741-c8ac2948b846",
   "metadata": {},
   "outputs": [],
   "source": [
    "hipp_dat.shape"
   ]
  },
  {
   "cell_type": "code",
   "execution_count": null,
   "id": "d09e6088-ca68-4eca-ac7f-eb94b68a2cca",
   "metadata": {},
   "outputs": [],
   "source": [
    "cdata = np.nanmean(hipp_dat,axis=(1,2))\n",
    "plotting.surfplot_canonical_foldunfold(np.nanmean(cdata[:,:,:,gm],axis=3), color_bar=('right'), hemis=['L'], labels=['hipp'], share='row', tighten_cwindow=True, embed_nb=True)"
   ]
  },
  {
   "cell_type": "code",
   "execution_count": null,
   "id": "0bea39d6-dc3b-4829-91f2-4c95dfd13f3b",
   "metadata": {},
   "outputs": [],
   "source": [
    "for i in range(8):\n",
    "    plotting.surfplot_canonical_foldunfold(np.nanmean(cdata[:,:,:,i,gm],axis=3), color_bar=('right'), hemis=['L'], size=[350,270], share='row', tighten_cwindow=True, embed_nb=True, screenshot=True, filename=f'{i}.png')"
   ]
  },
  {
   "cell_type": "markdown",
   "id": "bd0152c6-3988-4839-baf5-4932aa869ccc",
   "metadata": {},
   "source": [
    "## Add histology data\n",
    "Since the histology has only one hemisphere and no DG, we will heep only this data from MRI"
   ]
  },
  {
   "cell_type": "code",
   "execution_count": null,
   "id": "1b835890-89e5-4c3e-bdbd-b8bfce2f987f",
   "metadata": {},
   "outputs": [],
   "source": [
    "sys.path.insert(1, '/data/mica1/01_programs/micapipe-v0.2.0/functions')\n",
    "from build_mpc import build_mpc\n",
    "from brainspace.gradient import GradientMaps"
   ]
  },
  {
   "cell_type": "code",
   "execution_count": null,
   "id": "f2735e7e-fda2-4f33-b18f-b53533cea7ab",
   "metadata": {},
   "outputs": [],
   "source": [
    "downsampled_histo = np.load(\"../checkpoints/struct-HISTO-proc-midsurfaces.npy\")\n",
    "struct_data = np.concatenate((downsampled_histo,np.nanmean(cdata[:,:,:],axis=1)),axis=1)"
   ]
  },
  {
   "cell_type": "code",
   "execution_count": null,
   "id": "3f4b733d-7a30-4307-a290-fbff97e7828b",
   "metadata": {},
   "outputs": [],
   "source": [
    "# correlation between features\n",
    "feat_corr = np.corrcoef(struct_data.T)\n",
    "allfeatures = ['Merker', 'PLI-transmittance', 'Blockface', 'Bieloschowsky', 'Calbindin', 'Calretinin', 'Parvalbumin', 'Thionin', 'PD',\\\n",
    "               'qR1', 'qR2star', 'thickness', 'gyrification', 'curvature', 'T1map', 'MTR', 'T2star', 'FA', 'ADC']\n",
    "\n",
    "fig, ax = plt.subplots(figsize=(8, 8))\n",
    "ax.imshow(feat_corr, vmin=-1, vmax=1, cmap='bwr')\n",
    "plt.yticks(ticks=range(len(allfeatures)),labels=allfeatures);\n",
    "plt.xticks(ticks=range(len(allfeatures)),labels=allfeatures, rotation=90);"
   ]
  },
  {
   "cell_type": "code",
   "execution_count": null,
   "id": "d372b1dd-d2ff-4f62-bbd6-5607b5bc9294",
   "metadata": {},
   "outputs": [],
   "source": [
    "# gradient decomposition\n",
    "ngrads=5\n",
    "mmgm = GradientMaps(n_components=ngrads, kernel='cosine', random_state=0)\n",
    "mmgm.fit(struct_data[:,:], sparsity=0.1)\n",
    "plotting.surfplot_canonical_foldunfold(mmgm.gradients_, labels=['hipp'], hemis=['L'], size=[350,270], color_bar='right', share='row', tighten_cwindow=True, embed_nb=True)"
   ]
  },
  {
   "cell_type": "code",
   "execution_count": null,
   "id": "73433d7a-c115-47d6-ac93-69ee66fa9bc9",
   "metadata": {},
   "outputs": [],
   "source": [
    "plt.plot(np.arange(ngrads)+1,mmgm.lambdas_)"
   ]
  },
  {
   "cell_type": "code",
   "execution_count": null,
   "id": "4aee6f1a-ac12-43f9-8bd1-fbc70bf7ebb7",
   "metadata": {},
   "outputs": [],
   "source": [
    "mmgm.gradients_.shape"
   ]
  },
  {
   "cell_type": "code",
   "execution_count": null,
   "id": "1fc01e03-e935-415c-a963-d45c10850c22",
   "metadata": {},
   "outputs": [],
   "source": []
  }
 ],
 "metadata": {
  "kernelspec": {
   "display_name": "Python 3 (ipykernel)",
   "language": "python",
   "name": "python3"
  },
  "language_info": {
   "codemirror_mode": {
    "name": "ipython",
    "version": 3
   },
   "file_extension": ".py",
   "mimetype": "text/x-python",
   "name": "python",
   "nbconvert_exporter": "python",
   "pygments_lexer": "ipython3",
   "version": "3.8.0"
  },
  "widgets": {
   "application/vnd.jupyter.widget-state+json": {
    "state": {},
    "version_major": 2,
    "version_minor": 0
   }
  }
 },
 "nbformat": 4,
 "nbformat_minor": 5
}

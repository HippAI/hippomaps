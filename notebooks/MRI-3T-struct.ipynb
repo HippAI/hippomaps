{
 "cells": [
  {
   "cell_type": "code",
   "execution_count": 1,
   "id": "ce66f31a",
   "metadata": {
    "tags": []
   },
   "outputs": [],
   "source": [
    "import numpy as np\n",
    "import matplotlib.pyplot as plt\n",
    "import nibabel as nib\n",
    "import glob\n",
    "import sys\n",
    "sys.path.insert(1, '/export03/data/opt/hippunfold_toolbox/hippunfold_toolbox')\n",
    "import plotting\n",
    "import utils"
   ]
  },
  {
   "cell_type": "code",
   "execution_count": 2,
   "id": "d619ad4a",
   "metadata": {
    "tags": []
   },
   "outputs": [],
   "source": [
    "micapipe_dir = '../sourcedata/Micapipe_MICs'\n",
    "hippunfold_dir = '../hippunfold/MICs_v1.3.0/hippunfold'\n",
    "tmp_dir = 'tmp_MICs-struct'\n",
    "\n",
    "subs = ['HC048', 'HC043', 'HC087', 'HC037', 'HC055', 'HC100', 'HC036', 'HC017', 'HC088', 'HC040', 'HC058', 'HC076', 'HC090', 'HC059', 'HC101', 'HC063', 'HC094', 'HC024', 'HC050',\n",
    " 'HC080', 'HC013', 'HC026', 'HC001', 'HC084', 'HC105', 'HC083', 'HC042', 'HC014', 'HC033', 'HC081', 'HC106', 'HC108', 'HC095', 'HC002', 'HC102', 'HC028', 'HC020', 'HC049',\n",
    " 'HC007', 'HC023', 'HC065', 'HC025', 'HC056', 'HC003', 'HC015', 'HC077', 'HC067', 'HC072', 'HC109', 'HC086', 'HC089', 'HC091', 'HC031', 'HC039', 'HC112', 'HC068', 'HC034',\n",
    " 'HC032', 'HC060', 'HC047', 'HC103', 'HC046', 'HC009', 'HC097', 'HC116', 'HC053', 'HC079', 'HC029', 'HC075', 'HC078', 'HC057', 'HC018', 'HC074', 'HC064',\n",
    " 'HC096', 'HC010', 'HC038', 'HC093', 'HC082', 'HC092', 'HC027', 'HC019', 'HC005', 'HC008', 'HC011', 'HC044', 'HC030', 'HC035', 'HC085', 'HC069', 'HC041', 'HC012', 'HC054', 'HC022', 'HC016', 'HC099',\n",
    " 'HC073', 'HC052', 'HC045']\n",
    "ses = 'ses-01'\n",
    "ses2 = 'ses-02'\n",
    "ses3 = 'ses-03'\n",
    "\n",
    "hemis = ['L','R']\n",
    "labels = ['hipp','dentate'] \n",
    "ind = [range(7262), range(7262,7262+1788)]"
   ]
  },
  {
   "cell_type": "code",
   "execution_count": null,
   "id": "eaa30c22",
   "metadata": {
    "tags": []
   },
   "outputs": [],
   "source": [
    "%%capture\n",
    "!mkdir -p {tmp_dir}\n",
    "features = ['DTI-FA', 'DTI-ADC']\n",
    "for s,sub in enumerate(subs):\n",
    "    if not glob.glob(f'{hippunfold_dir}/sub-{sub}/ses-*/surf/sub-{sub}_ses-*_hemi-{hemis[-1]}_space-T1w_den-0p5mm_label-{labels[-1]}_{features[-1]}.shape.gii'):\n",
    "        try:\n",
    "            cmd1b = f'c3d_affine_tool '\\\n",
    "                f'-itk {micapipe_dir}/sub-{sub}/{ses}/xfm/sub-{sub}_{ses}_space-dwi_from-dwi_to-nativepro_mode-image_desc-0GenericAffine.mat '\\\n",
    "                f'-inv '\\\n",
    "                f'-o {tmp_dir}/sub-{sub}_{ses}_tmp0GenericAffine1.txt'\n",
    "            !{cmd1b}\n",
    "            for h,hemi in enumerate(hemis):\n",
    "                for l,label in enumerate(labels):\n",
    "                    #apply affines\n",
    "                    cmd2a = f'wb_command -surface-apply-affine '\\\n",
    "                        f'{hippunfold_dir}/sub-{sub}/{ses}/surf/sub-{sub}_{ses}_hemi-{hemi}_space-T1w_den-0p5mm_label-{label}_midthickness.surf.gii '\\\n",
    "                        f'{tmp_dir}/sub-{sub}_{ses}_tmp0GenericAffine1.txt '\\\n",
    "                        f'{tmp_dir}/sub-{sub}_{ses}_{h}_{l}_aff0.surf.gii'\n",
    "                    !{cmd2a}\n",
    "                    for f,feature in enumerate(features):\n",
    "                        # sample\n",
    "                        cmd4 = f'wb_command -volume-to-surface-mapping '\\\n",
    "                            f'{micapipe_dir}/sub-{sub}/{ses}/dwi/sub-{sub}_{ses}_space-dwi_model-DTI_map-{feature[4:]}.nii.gz '\\\n",
    "                            f'{tmp_dir}/sub-{sub}_{ses}_{h}_{l}_aff0.surf.gii '\\\n",
    "                            f'{hippunfold_dir}/sub-{sub}/{ses}/surf/sub-{sub}_{ses}_hemi-{hemi}_space-T1w_den-0p5mm_label-{label}_{feature}.shape.gii '\\\n",
    "                            f'-enclosing'\n",
    "                        !{cmd4}\n",
    "        except:\n",
    "            cmd1b = f'c3d_affine_tool '\\\n",
    "                f'-itk {micapipe_dir}/sub-{sub}/{ses2}/xfm/sub-{sub}_{ses2}_space-dwi_from-dwi_to-nativepro_mode-image_desc-0GenericAffine.mat '\\\n",
    "                f'-inv '\\\n",
    "                f'-o {tmp_dir}/sub-{sub}_{ses2}_tmp0GenericAffine1.txt'\n",
    "            !{cmd1b}\n",
    "            for h,hemi in enumerate(hemis):\n",
    "                for l,label in enumerate(labels):\n",
    "                    #apply affines\n",
    "                    cmd2a = f'wb_command -surface-apply-affine '\\\n",
    "                        f'{hippunfold_dir}/sub-{sub}/{ses2}/surf/sub-{sub}_{ses2}_hemi-{hemi}_space-T1w_den-0p5mm_label-{label}_midthickness.surf.gii '\\\n",
    "                        f'{tmp_dir}/sub-{sub}_{ses2}_tmp0GenericAffine1.txt '\\\n",
    "                        f'{tmp_dir}/sub-{sub}_{ses2}_{h}_{l}_aff0.surf.gii'\n",
    "                    !{cmd2a}\n",
    "                    for f,feature in enumerate(features):\n",
    "                        # sample\n",
    "                        cmd4 = f'wb_command -volume-to-surface-mapping '\\\n",
    "                            f'{micapipe_dir}/sub-{sub}/{ses2}/dwi/sub-{sub}_{ses2}_space-dwi_model-DTI_map-{feature[4:]}.nii.gz '\\\n",
    "                            f'{tmp_dir}/sub-{sub}_{ses2}_{h}_{l}_aff0.surf.gii '\\\n",
    "                            f'{hippunfold_dir}/sub-{sub}/{ses2}/surf/sub-{sub}_{ses2}_hemi-{hemi}_space-T1w_den-0p5mm_label-{label}_{feature}.shape.gii '\\\n",
    "                            f'-enclosing'\n",
    "                        !{cmd4}\n",
    "        finally:\n",
    "            cmd1b = f'c3d_affine_tool '\\\n",
    "                f'-itk {micapipe_dir}/sub-{sub}/{ses3}/xfm/sub-{sub}_{ses3}_space-dwi_from-dwi_to-nativepro_mode-image_desc-0GenericAffine.mat '\\\n",
    "                f'-inv '\\\n",
    "                f'-o {tmp_dir}/sub-{sub}_{ses3}_tmp0GenericAffine1.txt'\n",
    "            !{cmd1b}\n",
    "            for h,hemi in enumerate(hemis):\n",
    "                for l,label in enumerate(labels):\n",
    "                    #apply affines\n",
    "                    cmd2a = f'wb_command -surface-apply-affine '\\\n",
    "                        f'{hippunfold_dir}/sub-{sub}/{ses3}/surf/sub-{sub}_{ses3}_hemi-{hemi}_space-T1w_den-0p5mm_label-{label}_midthickness.surf.gii '\\\n",
    "                        f'{tmp_dir}/sub-{sub}_{ses3}_tmp0GenericAffine1.txt '\\\n",
    "                        f'{tmp_dir}/sub-{sub}_{ses3}_{h}_{l}_aff0.surf.gii'\n",
    "                    !{cmd2a}\n",
    "                    for f,feature in enumerate(features):\n",
    "                        # sample\n",
    "                        cmd4 = f'wb_command -volume-to-surface-mapping '\\\n",
    "                            f'{micapipe_dir}/sub-{sub}/{ses3}/dwi/sub-{sub}_{ses3}_space-dwi_model-DTI_map-{feature[4:]}.nii.gz '\\\n",
    "                            f'{tmp_dir}/sub-{sub}_{ses3}_{h}_{l}_aff0.surf.gii '\\\n",
    "                            f'{hippunfold_dir}/sub-{sub}/{ses3}/surf/sub-{sub}_{ses3}_hemi-{hemi}_space-T1w_den-0p5mm_label-{label}_{feature}.shape.gii '\\\n",
    "                            f'-enclosing'\n",
    "                        !{cmd4}\n",
    "!rm -r {tmp_dir}"
   ]
  },
  {
   "cell_type": "code",
   "execution_count": null,
   "id": "dabe34cb",
   "metadata": {
    "tags": []
   },
   "outputs": [],
   "source": [
    "%%capture\n",
    "!mkdir -p {tmp_dir}\n",
    "# qT1 not processed by micapipe\n",
    "for s,sub in enumerate(subs):\n",
    "    if not glob.glob(f'{hippunfold_dir}/sub-{sub}/ses-*/surf/sub-{sub}_ses-*_hemi-{hemis[-1]}_space-T1w_den-0p5mm_label-{labels[-1]}_qT1.shape.gii .shape.gii'):\n",
    "        try:\n",
    "            for h,hemi in enumerate(hemis):\n",
    "                for l,label in enumerate(labels):\n",
    "                    #apply affines\n",
    "                    cmd2a = f'wb_command -surface-apply-affine '\\\n",
    "                        f'{hippunfold_dir}/sub-{sub}/{ses}/surf/sub-{sub}_{ses}_hemi-{hemi}_space-T1w_den-0p5mm_label-{label}_midthickness.surf.gii '\\\n",
    "                        f'{micapipe_dir}/sub-{sub}/{ses}/xfm/sub-{sub}_{ses}_space-dwi_from-dwi_to-nativepro_mode-image_desc-affine_0GenericAffine.txt '\\\n",
    "                        f'{tmp_dir}/sub-{sub}_{ses}_{h}_{l}_aff0.surf.gii'\n",
    "                    !{cmd2a}\n",
    "                    cmd2 = f'wb_command -volume-to-surface-mapping '\\\n",
    "                        f'{micapipe_dir}/sub-{sub}/{ses}/anat/qt1/sub-{sub}_{ses}_space-qt1_desc-qt1_brain.nii.gz '\\\n",
    "                        f'{tmp_dir}/sub-{sub}_{ses}_{h}_{l}_aff0.surf.gii '\\\n",
    "                        f'{hippunfold_dir}/sub-{sub}/{ses}/surf/sub-{sub}_{ses}_hemi-{hemi}_space-T1w_den-0p5mm_label-{label}_qT1.shape.gii '\\\n",
    "                        f'-trilinear'\n",
    "                    !{cmd2}\n",
    "        except:\n",
    "            for h,hemi in enumerate(hemis):\n",
    "                for l,label in enumerate(labels):\n",
    "                    #apply affines\n",
    "                    cmd2a = f'wb_command -surface-apply-affine '\\\n",
    "                        f'{hippunfold_dir}/sub-{sub}/ses-{ses2}/surf/sub-{sub}_ses-{ses2}_hemi-{hemi}_space-T1w_den-0p5mm_label-{label}_midthickness.surf.gii '\\\n",
    "                        f'{micapipe_dir}/sub-{sub}/{ses2}/xfm/sub-{sub}_{ses2}_space-dwi_from-dwi_to-nativepro_mode-image_desc-affine_0GenericAffine.txt '\\\n",
    "                        f'{tmp_dir}/sub-{sub}_ses-{ses2}_{h}_{l}_aff0.surf.gii'\n",
    "                    !{cmd2a}\n",
    "                    cmd2 = f'wb_command -volume-to-surface-mapping '\\\n",
    "                        f'{micapipe_dir}/sub-{sub}/{ses2}/anat/qt1/sub-{sub}_{ses2}_space-qt1_desc-qt1_brain.nii.gz '\\\n",
    "                        f'{tmp_dir}/sub-{sub}_ses-{ses2}_{h}_{l}_aff0.surf.gii '\\\n",
    "                        f'{hippunfold_dir}/sub-{sub}/{ses2}/surf/sub-{sub}_{ses2}_hemi-{hemi}_space-T1w_den-0p5mm_label-{label}_qT1.shape.gii '\\\n",
    "                        f'-trilinear'\n",
    "                    !{cmd2}\n",
    "        finally:\n",
    "            for h,hemi in enumerate(hemis):\n",
    "                for l,label in enumerate(labels):\n",
    "                    #apply affines\n",
    "                    cmd2a = f'wb_command -surface-apply-affine '\\\n",
    "                        f'{hippunfold_dir}/sub-{sub}/ses-{ses3}/surf/sub-{sub}_ses-{ses3}_hemi-{hemi}_space-T1w_den-0p5mm_label-{label}_midthickness.surf.gii '\\\n",
    "                        f'{micapipe_dir}/sub-{sub}/{ses3}/xfm/sub-{sub}_{ses3}_space-dwi_from-dwi_to-nativepro_mode-image_desc-affine_0GenericAffine.txt '\\\n",
    "                        f'{tmp_dir}/sub-{sub}_ses-{ses3}_{h}_{l}_aff0.surf.gii'\n",
    "                    !{cmd2a}\n",
    "                    cmd2 = f'wb_command -volume-to-surface-mapping '\\\n",
    "                        f'{micapipe_dir}/sub-{sub}/{ses3}/anat/qt1/sub-{sub}_{ses3}_space-qt1_desc-qt1_brain.nii.gz '\\\n",
    "                        f'{tmp_dir}/sub-{sub}_ses-{ses3}_{h}_{l}_aff0.surf.gii '\\\n",
    "                        f'{hippunfold_dir}/sub-{sub}/{ses3}/surf/sub-{sub}_{ses3}_hemi-{hemi}_space-T1w_den-0p5mm_label-{label}_qT1.shape.gii '\\\n",
    "                        f'-trilinear'\n",
    "                    !{cmd2}\n",
    "!rm -r {tmp_dir}"
   ]
  },
  {
   "cell_type": "code",
   "execution_count": null,
   "id": "8bcdca17",
   "metadata": {},
   "outputs": [],
   "source": [
    "features = ['DTI-FA', 'DTI-ADC', 'qT1']\n",
    "hipp_dat = np.ones([7262+1788,2,len(subs),len(features)])*np.nan\n",
    "\n",
    "missingdat = np.zeros((3))\n",
    "\n",
    "for f,feature in enumerate(features):\n",
    "    for s,sub in enumerate(subs):\n",
    "        for h,hemi in enumerate(hemis):\n",
    "            for l,label in enumerate(labels):\n",
    "                try:\n",
    "                    d = nib.load(f'{hippunfold_dir}/sub-{sub}/{ses}/surf/'\\\n",
    "                                 f'sub-{sub}_{ses}_hemi-{hemi}_space-T1w'\\\n",
    "                                 f'_den-0p5mm_label-{label}_{feature}.shape.gii')\n",
    "                    hipp_dat[ind[l],h,s,f] = d.darrays[0].data\n",
    "                except:\n",
    "                    d = nib.load(f'{hippunfold_dir}/sub-{sub}/{ses2}/surf/'\\\n",
    "                                 f'sub-{sub}_{ses2}_hemi-{hemi}_space-T1w'\\\n",
    "                                 f'_den-0p5mm_label-{label}_{feature}.shape.gii')\n",
    "                    hipp_dat[ind[l],h,s,f] = d.darrays[0].data\n",
    "                except:\n",
    "                    d = nib.load(f'{hippunfold_dir}/sub-{sub}/{ses3}/surf/'\\\n",
    "                                 f'sub-{sub}_{ses3}_hemi-{hemi}_space-T1w'\\\n",
    "                                 f'_den-0p5mm_label-{label}_{feature}.shape.gii')\n",
    "                    hipp_dat[ind[l],h,s,f] = d.darrays[0].data\n",
    "                except:\n",
    "                    missingdat[f] += 1"
   ]
  },
  {
   "cell_type": "code",
   "execution_count": null,
   "id": "2a4f1066-67e5-4ceb-ae1f-ae30a08cff78",
   "metadata": {},
   "outputs": [],
   "source": [
    "missingdat"
   ]
  },
  {
   "cell_type": "code",
   "execution_count": null,
   "id": "ca342b13",
   "metadata": {
    "tags": []
   },
   "outputs": [],
   "source": [
    "plotting.surfplot_canonical_foldunfold(np.nanmean(hipp_dat,axis=2), den='0p5mm', color_bar=('right'), share='row', tighten_cwindow=True, embed_nb=True)"
   ]
  },
  {
   "cell_type": "code",
   "execution_count": null,
   "id": "aeb5dace-286b-45aa-ac9c-959e9929c1dc",
   "metadata": {},
   "outputs": [],
   "source": [
    "hipp_dat.shape"
   ]
  },
  {
   "cell_type": "code",
   "execution_count": null,
   "id": "ae4f1a72",
   "metadata": {},
   "outputs": [],
   "source": [
    "# save 2D map\n",
    "for h,hemi in enumerate(hemis):\n",
    "    for l,label in enumerate(labels): \n",
    "        for f,feature in enumerate(features):\n",
    "        cdat = np.nanmean(hipp_dat[ind[l],h,:,f],axis=1).flatten()\n",
    "        data_array = nib.gifti.GiftiDataArray(data=cdat)\n",
    "        image = nib.gifti.GiftiImage()\n",
    "        image.add_gifti_data_array(data_array)\n",
    "        nib.save(image, f'../maps/MRI-3T-{feature}_average-{99-missingdat[f]}_hemi-mix_den-0p5mm_label-hipp.shape.gii')"
   ]
  }
 ],
 "metadata": {
  "kernelspec": {
   "display_name": "Python 3 (ipykernel)",
   "language": "python",
   "name": "python3"
  },
  "language_info": {
   "codemirror_mode": {
    "name": "ipython",
    "version": 3
   },
   "file_extension": ".py",
   "mimetype": "text/x-python",
   "name": "python",
   "nbconvert_exporter": "python",
   "pygments_lexer": "ipython3",
   "version": "3.8.0"
  },
  "widgets": {
   "application/vnd.jupyter.widget-state+json": {
    "state": {},
    "version_major": 2,
    "version_minor": 0
   }
  }
 },
 "nbformat": 4,
 "nbformat_minor": 5
}

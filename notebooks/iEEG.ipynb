{
 "cells": [
  {
   "cell_type": "markdown",
   "id": "f43c4f4c-5520-4a4b-a3db-59dc252b7709",
   "metadata": {},
   "source": [
    "# Overview\n",
    "In this notebook, we will compare data between iEEG contacts inside the hippocapus vs the rest of the brain in terms of band power. We will then extrapolate these band powers across the hippocampus to see if there are systematic differences.\n",
    "\n",
    "Note that we have already determined which/where channels are in the hippocampus, and preprocessed the iEEG timeseries and converted them to band power values in the `../extras` directory. See there for methodological details"
   ]
  },
  {
   "cell_type": "code",
   "execution_count": 3,
   "id": "964a9b3b-a43e-4d6a-9cbc-258c27c5325f",
   "metadata": {},
   "outputs": [],
   "source": [
    "import numpy as np\n",
    "import matplotlib.pyplot as plt\n",
    "import matplotlib.pylab as pl\n",
    "import nibabel as nib\n",
    "import glob\n",
    "import sys\n",
    "sys.path.insert(1, '/export03/data/opt/hippunfold_toolbox/hippunfold_toolbox')\n",
    "import plotting\n",
    "import utils\n",
    "import pandas as pd\n",
    "import scipy.io\n",
    "from scipy.signal import periodogram\n",
    "import pygeodesic.geodesic as geodesic"
   ]
  },
  {
   "cell_type": "code",
   "execution_count": 4,
   "id": "bb15d399-1c2d-4068-b247-fc4c386ca768",
   "metadata": {},
   "outputs": [],
   "source": [
    "den='2mm'\n",
    "hemis = ['L','R']\n",
    "labels = ['hipp']#,'dentate'] \n",
    "ind = [range(419), range(419,483)] # index of how many dentate and hipp vertices are\n",
    "shp = [419]#,64]\n",
    "freq = 200 #Hz\n",
    "bands = ['delta', 'theta', 'alpha', 'beta', 'gamma']\n",
    "band_lims = np.array([[0.5,4], [4,8], [8,13], [13,30], [30,80]])\n",
    "sampspace = np.arange(0.5,80,0.5)\n",
    "dist_threshold = 5 #mm"
   ]
  },
  {
   "cell_type": "code",
   "execution_count": null,
   "id": "3f68afca-1cd8-4496-87e1-d44dad07857a",
   "metadata": {},
   "outputs": [],
   "source": [
    "# load preprocessed bandpower and periogram data\n",
    "# all data is all clean channels, hipp dat has non-hippocmapal channels NaN'd out\n",
    "\n",
    "vars_to_load = ['pxx', 'bp', 'hipp_bp', 'hipp_pxx']\n",
    "t1 = np.load(f'../checkpoints/iEEG_Frauscher_dat.npy',allow_pickle=True)\n",
    "t2 = np.load(f'../checkpoints/iEEG_MICs_dat.npy',allow_pickle=True)"
   ]
  },
  {
   "cell_type": "code",
   "execution_count": null,
   "id": "2b15c5aa-bf5b-40b0-89ea-e367876ce9d3",
   "metadata": {},
   "outputs": [],
   "source": [
    "all_pxx = np.concatenate((t1[0], t2[0]),axis=1)\n",
    "all_bp = np.concatenate((t1[1], t2[1]),axis=0)\n",
    "all_hippbp = np.concatenate((t1[2],t2[2]),axis=3)\n",
    "all_hipppxx = np.concatenate((t1[3],t2[3]),axis=3)"
   ]
  },
  {
   "cell_type": "code",
   "execution_count": null,
   "id": "71feb0f8-c267-44be-88bc-73abc46ce2e4",
   "metadata": {},
   "outputs": [],
   "source": [
    "print('number of L hemis: ' + str(len(np.where(np.any(~np.isnan(all_hippbp[:,0,0,:]),axis=0))[0])))\n",
    "print('number of R hemis: ' + str(len(np.where(np.any(~np.isnan(all_hippbp[:,1,0,:]),axis=0))[0])))"
   ]
  },
  {
   "cell_type": "code",
   "execution_count": null,
   "id": "2da1bf95-fd71-4684-b191-8d5d84c7170c",
   "metadata": {},
   "outputs": [],
   "source": [
    "hipp_dat_count = np.sum(~np.isnan(all_hippbp),axis=(1,3))[:,0]\n",
    "plotting.surfplot_canonical_foldunfold(hipp_dat_count, den='2mm', hemis=['L'], labels=labels, unfoldAPrescale=True, tighten_cwindow=True, cmap='cividis', share='row', color_bar='right', embed_nb=True)"
   ]
  },
  {
   "cell_type": "code",
   "execution_count": null,
   "id": "e6c5f10f-f5e7-4235-9b03-b36a98c35616",
   "metadata": {},
   "outputs": [],
   "source": [
    "y = np.exp(np.nanmean(np.log(all_pxx),axis=1))\n",
    "err = np.nanstd(all_pxx,axis=1)\n",
    "plt.plot(sampspace,y,'k-')\n",
    "plt.fill_between(sampspace, y-err, y+err, alpha=0.5, color='r')\n",
    "plt.vlines(band_lims.flatten(),plt.gca().get_ylim()[0],plt.gca().get_ylim()[1],colors='k',linestyles='--')\n",
    "plt.xscale('log')\n",
    "plt.xlim(0.4,100)"
   ]
  },
  {
   "cell_type": "code",
   "execution_count": null,
   "id": "dd4abecd-9dcb-485d-b795-3ae967de3468",
   "metadata": {},
   "outputs": [],
   "source": [
    "y = np.exp(np.nanmean(np.log(all_pxx),axis=1))\n",
    "err = np.nanstd(all_hipppxx,axis=(0,1,3))\n",
    "plt.plot(sampspace,y,'k-')\n",
    "plt.fill_between(sampspace, y-err, y+err, alpha=0.5, color='r')\n",
    "plt.vlines(band_lims.flatten(),plt.gca().get_ylim()[0],plt.gca().get_ylim()[1],colors='k',linestyles='--')\n",
    "plt.xscale('log')\n",
    "plt.xlim(0.4,100)"
   ]
  },
  {
   "cell_type": "markdown",
   "id": "ff3d2e85-ca6c-474d-addf-4cba064a7493",
   "metadata": {},
   "source": [
    "## Overall Band power\n",
    "Here we simply compare all iEEG contact to the subset that are specifically coming from within the hippocampus"
   ]
  },
  {
   "cell_type": "code",
   "execution_count": null,
   "id": "0a7edab7-9e3e-494c-99ce-dc715b6ebab3",
   "metadata": {},
   "outputs": [],
   "source": [
    "color_discrete = pl.cm.Set1(range(10))\n",
    "l=['delta', 'theta', 'alpha', 'beta', 'gamma']\n",
    "fig, ax = plt.subplots()\n",
    "ax.set_xscale('log')\n",
    "ax.yaxis.set_visible(False)\n",
    "ax = [ax]\n",
    "n=0\n",
    "for b in range(5):\n",
    "    ax = ax + [ax[0].twinx()]\n",
    "    dat = all_bp[:,b]\n",
    "    plt.axvline(x=np.nanmedian(dat), color=color_discrete[n], linestyle='dashed')\n",
    "    ax[n+1].hist(dat,bins=np.logspace(np.log10(1e-4),np.log10(1), 50), linestyle=None, alpha=0.5, \n",
    "               color=color_discrete[b], label=l[b]);\n",
    "    ax[n+1].yaxis.set_visible(False)\n",
    "    n=n+1\n",
    "plt.legend(handles=ax[1:])"
   ]
  },
  {
   "cell_type": "code",
   "execution_count": null,
   "id": "417ce880-266a-40f5-8e4b-b8665e9455a4",
   "metadata": {},
   "outputs": [],
   "source": [
    "color_discrete = pl.cm.Set1(range(10))\n",
    "l=['delta', 'theta', 'alpha', 'beta', 'gamma']\n",
    "fig, ax = plt.subplots()\n",
    "ax.set_xscale('log')\n",
    "ax.yaxis.set_visible(False)\n",
    "ax = [ax]\n",
    "n=0\n",
    "for b in range(5):\n",
    "    ax = ax + [ax[0].twinx()]\n",
    "    dat = all_hippbp[:,:,b,:].flatten()\n",
    "    plt.axvline(x=np.nanmedian(dat), color=color_discrete[n], linestyle='dashed')\n",
    "    ax[n+1].hist(dat,bins=np.logspace(np.log10(1e-4),np.log10(1), 50), linestyle=None, alpha=0.5, \n",
    "               color=color_discrete[b], label=l[b]);\n",
    "    ax[n+1].yaxis.set_visible(False)\n",
    "    n=n+1\n",
    "plt.legend(handles=ax[1:])"
   ]
  },
  {
   "cell_type": "markdown",
   "id": "32edc5d3-2b79-4d87-85ac-7de66d9458a0",
   "metadata": {},
   "source": [
    "## Extrapolation\n",
    "We can see that simply averaging over all channels doesn't give a good idea of the spatial distribution of band power, since so much data is missing. Thus, we will extrapolate each channel over the whole hippocampus and then use the distance from the channel as a weighting when performing weighted averaging across channels. See `../extras` for an example visualization."
   ]
  },
  {
   "cell_type": "code",
   "execution_count": null,
   "id": "62eaecd3-468f-411b-8c42-1c9b105ebfc0",
   "metadata": {},
   "outputs": [],
   "source": [
    "surfL = nib.load('/export03/data/opt/hippunfold-templateflow/tpl-MNI152NLin2009cSym/tpl-MNI152NLin2009cSym_hemi-L_space-T1w_den-2mm_label-hipp_midthickness.surf.gii')\n",
    "surfR = nib.load('/export03/data/opt/hippunfold-templateflow/tpl-MNI152NLin2009cSym/tpl-MNI152NLin2009cSym_hemi-R_space-T1w_den-2mm_label-hipp_midthickness.surf.gii')\n",
    "vertices = np.stack((surfL.get_arrays_from_intent('NIFTI_INTENT_POINTSET')[0].data,surfR.get_arrays_from_intent('NIFTI_INTENT_POINTSET')[0].data),axis=2)\n",
    "faces = surfL.get_arrays_from_intent('NIFTI_INTENT_TRIANGLE')[0].data"
   ]
  },
  {
   "cell_type": "code",
   "execution_count": null,
   "id": "22f499d0-b78a-4084-9c5e-d263cecb1597",
   "metadata": {},
   "outputs": [],
   "source": [
    "weights_hipp_dat = np.zeros((all_hippbp.shape[0],2,all_hippbp.shape[3]))\n",
    "interp_hipp_dat = np.zeros([all_hippbp.shape[0],5])\n",
    "interp_hipp_perio_dat = np.zeros([all_hippbp.shape[0],len(all_pxx)])\n",
    "\n",
    "for h,hemi in enumerate(hemis):\n",
    "    for l,label in enumerate(labels):\n",
    "        for c in range(all_hippbp.shape[3]):\n",
    "            dat = all_hippbp[:,h,0,c]\n",
    "            mask = ~np.isnan(dat[ind[l]])\n",
    "            if np.any(mask):\n",
    "                geoalg = geodesic.PyGeodesicAlgorithmExact(vertices[:,:,h], faces)\n",
    "                sd,_ = geoalg.geodesicDistances(np.where(mask)[0], None)\n",
    "                weights_hipp_dat[ind[l],h,c] = 1 - (sd/np.max(sd))\n",
    "totweights = np.nansum(weights_hipp_dat, axis=(1,2))\n",
    "for v in range(weights_hipp_dat.shape[0]):\n",
    "    for h in range(2):\n",
    "        for c in range(all_hippbp.shape[3]):\n",
    "            w = weights_hipp_dat[v,h,c] / totweights[v]\n",
    "            if w>0:\n",
    "                interp_hipp_dat[v,:] += np.nanmean(all_hippbp[:,h,:,c],axis=0) * w\n",
    "                interp_hipp_perio_dat[v,:] += np.nanmean(all_hipppxx[:,h,:,c],axis=0) * w"
   ]
  },
  {
   "cell_type": "code",
   "execution_count": null,
   "id": "fa611ff6-a6ae-4951-8ea2-8211d85690cb",
   "metadata": {},
   "outputs": [],
   "source": [
    "plotting.surfplot_canonical_foldunfold(interp_hipp_dat, den=den, hemis=['L'], labels=labels, unfoldAPrescale=True, tighten_cwindow=True, cmap='cividis', share='row', color_bar='right', embed_nb=True)"
   ]
  },
  {
   "cell_type": "code",
   "execution_count": null,
   "id": "34f40963-e5c9-4b1e-87a1-ea948faf211b",
   "metadata": {},
   "outputs": [],
   "source": [
    "from brainspace.gradient import GradientMaps\n",
    "# gradient decomposition\n",
    "bpgm = GradientMaps(n_components=5, kernel='normalized_angle')\n",
    "bpgm.fit(interp_hipp_perio_dat, sparsity=0.1)"
   ]
  },
  {
   "cell_type": "code",
   "execution_count": null,
   "id": "f39920f8-6420-45a0-9db7-887f4cc83485",
   "metadata": {},
   "outputs": [],
   "source": [
    "plotting.surfplot_canonical_foldunfold(bpgm.gradients_, den=den, hemis=['L'], labels=labels, unfoldAPrescale=True, tighten_cwindow=True, cmap='plasma', share='row', color_bar='right', embed_nb=True)"
   ]
  },
  {
   "cell_type": "code",
   "execution_count": null,
   "id": "858618cc-fd22-4160-bb4a-958a23a1a07f",
   "metadata": {},
   "outputs": [],
   "source": [
    "plt.plot(bpgm.lambdas_)"
   ]
  },
  {
   "cell_type": "code",
   "execution_count": null,
   "id": "4a415536-de73-4417-b50b-7bf99970d23c",
   "metadata": {},
   "outputs": [],
   "source": [
    "# compare top to bottom\n",
    "n_components=5\n",
    "fig, ax = plt.subplots(nrows=1, ncols=n_components, figsize=(6*n_components,4))\n",
    "\n",
    "for c in range(n_components):\n",
    "\n",
    "    nverts = np.sum(shp)\n",
    "    nvertsplit = int(nverts*.1)\n",
    "\n",
    "    bot = np.argpartition(bpgm.gradients_[:,c],nvertsplit)[:nvertsplit]\n",
    "    top = np.argpartition(bpgm.gradients_[:,c],-nvertsplit)[-nvertsplit:]\n",
    "\n",
    "    ax[c].plot(sampspace,np.mean(interp_hipp_perio_dat[top,:],axis=0),color='purple', linewidth=4)\n",
    "    ax[c].plot(sampspace,np.mean(interp_hipp_perio_dat[bot,:],axis=0),color='gold', linewidth=4)\n",
    "    #ax[c].set_yscale('log')\n",
    "    ax[c].set_xscale('log')\n",
    "    ax[c].vlines(band_lims.flatten(),ax[c].get_ylim()[0],ax[c].get_ylim()[1],colors='k',linestyles='--')\n",
    "    ax[c].set_xlim(0.4,100)"
   ]
  },
  {
   "cell_type": "code",
   "execution_count": null,
   "id": "f32fd58e-e73f-4254-97f6-24a58d8da743",
   "metadata": {},
   "outputs": [],
   "source": [
    "# save a copy of the 2D map\n",
    "for b,band in enumerate(bands):\n",
    "    cdat = interp_hipp_dat[:,b]\n",
    "    data_array = nib.gifti.GiftiDataArray(data=cdat)\n",
    "    image = nib.gifti.GiftiImage()\n",
    "    image.add_gifti_data_array(data_array)\n",
    "    nib.save(image, f'../maps/HippoMaps-initializationMaps/Dataset-MICs+Frauscher/iEEG-BandPower-{band}_average-81_hemi-mix_den-{den}_label-{label}.shape.gii')"
   ]
  },
  {
   "cell_type": "code",
   "execution_count": null,
   "id": "85b9ef10-fca8-4c19-9d50-910a0fcf1eec",
   "metadata": {},
   "outputs": [],
   "source": []
  }
 ],
 "metadata": {
  "kernelspec": {
   "display_name": "Python 3 (ipykernel)",
   "language": "python",
   "name": "python3"
  },
  "language_info": {
   "codemirror_mode": {
    "name": "ipython",
    "version": 3
   },
   "file_extension": ".py",
   "mimetype": "text/x-python",
   "name": "python",
   "nbconvert_exporter": "python",
   "pygments_lexer": "ipython3",
   "version": "3.8.0"
  },
  "widgets": {
   "application/vnd.jupyter.widget-state+json": {
    "state": {},
    "version_major": 2,
    "version_minor": 0
   }
  }
 },
 "nbformat": 4,
 "nbformat_minor": 5
}
